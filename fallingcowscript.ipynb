{
 "cells": [
  {
   "cell_type": "code",
   "execution_count": null,
   "metadata": {},
   "outputs": [],
   "source": [
    "# Import packages\n",
    "\n",
    "import os\n",
    "import numpy as np\n",
    "import math as math\n",
    "from matplotlib import pyplot as plt"
   ]
  },
  {
   "cell_type": "code",
   "execution_count": null,
   "metadata": {},
   "outputs": [],
   "source": [
    "# Define constants:\n",
    "m = 1000 # mass of cow in kg\n",
    "g = 9.8 # grav acceleration in m/s/s\n",
    "dt = 0.001 # timestep\n",
    "\n",
    "# Define initial conditions:\n",
    "x_0 = 0 # initial x condition\n",
    "y_0 = 200 # initial y condition\n",
    "vx_0 = 10 # initial velocity in x-direction\n",
    "vy_0 = 0 # initial velocity in y-direction"
   ]
  },
  {
   "cell_type": "code",
   "execution_count": null,
   "metadata": {},
   "outputs": [],
   "source": [
    "# Total force vector function:\n",
    "def force(mass, g, vx, vy, C):\n",
    "    fg_x = 0 # force of gravity in x-direction\n",
    "    fg_y = -mass*g # force of gravity in the y-direction\n",
    "\n",
    "    # Drag force is negative because it acts in opposite direction of velocity\n",
    "    # For each component, the magnitude of v is multiplied by its corresponding component\n",
    "    # due to scaling of the unit vector. \n",
    "    fd_x = -C * np.sqrt(vx**2 + vy**2) * vx\n",
    "    fd_y = -C * np.sqrt(vx**2 + vy**2) * vy\n",
    "    \n",
    "    # Total force values:\n",
    "    fg = fg_x + fg_y # sum of x- and y-components of gravitational force\n",
    "    fd = fd_x + fd_y # sum of x- and y-components of drag force\n",
    "\n",
    "    return fg, fd"
   ]
  },
  {
   "cell_type": "code",
   "execution_count": null,
   "metadata": {},
   "outputs": [],
   "source": [
    "# A function that takes the cow’s current x, v, and F and returns a new x and v some small time later:\n",
    "def "
   ]
  }
 ],
 "metadata": {
  "kernelspec": {
   "display_name": "base",
   "language": "python",
   "name": "python3"
  },
  "language_info": {
   "codemirror_mode": {
    "name": "ipython",
    "version": 3
   },
   "file_extension": ".py",
   "mimetype": "text/x-python",
   "name": "python",
   "nbconvert_exporter": "python",
   "pygments_lexer": "ipython3",
   "version": "3.12.7"
  }
 },
 "nbformat": 4,
 "nbformat_minor": 2
}
