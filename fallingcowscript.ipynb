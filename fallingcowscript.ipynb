{
 "cells": [
  {
   "cell_type": "code",
   "execution_count": 2,
   "metadata": {},
   "outputs": [],
   "source": [
    "# Import packages\n",
    "\n",
    "import os\n",
    "import numpy as np\n",
    "import math as math\n",
    "from matplotlib import pyplot as plt"
   ]
  },
  {
   "cell_type": "code",
   "execution_count": 3,
   "metadata": {},
   "outputs": [],
   "source": [
    "# Define constants:\n",
    "m = 1000 # mass of cow in kg\n",
    "g = 9.8 # grav acceleration in m/s/s\n",
    "timestep = 0.01 \n",
    "\n",
    "# Define initial conditions:\n",
    "x_0 = 0 # initial x condition\n",
    "y_0 = 200 # initial y condition\n",
    "vx_0 = 10 # initial velocity in x-direction\n",
    "vy_0 = 0 # initial velocity in y-direction"
   ]
  },
  {
   "cell_type": "code",
   "execution_count": 4,
   "metadata": {},
   "outputs": [],
   "source": [
    "# Total force vector function:\n",
    "def force(mass, g, vx, vy, C):\n",
    "    fg_x = 0 # force of gravity in x-direction\n",
    "    fg_y = -mass*g # force of gravity in the y-direction\n",
    "\n",
    "    # Drag force is negative because it acts in opposite direction of velocity\n",
    "    # For each component, the magnitude of v is multiplied by its corresponding component\n",
    "    # due to scaling of the unit vector. \n",
    "    fd_x = -C * np.sqrt(vx**2 + vy**2) * vx\n",
    "    fd_y = -C * np.sqrt(vx**2 + vy**2) * vy\n",
    "    \n",
    "    # Total force values:\n",
    "    fx = fg_x + fd_x # sum of forces in x-direction\n",
    "    fy = fg_y + fd_y # sum of forces in y-direction\n",
    "    \n",
    "    return fx, fy"
   ]
  },
  {
   "cell_type": "code",
   "execution_count": null,
   "metadata": {},
   "outputs": [],
   "source": [
    "# Function that takes the cow’s current x, v, and F and returns a new x and v some small time later:\n",
    "def new_vals(fx, fy, v_x, v_y, dt, x0, y0):\n",
    "    \n",
    "    # Need acceleration to calutate v_f\n",
    "    a_x = fx / m\n",
    "    a_y = fy / m\n",
    "\n",
    "    # Plug a into kinematic eq vf = v0 + at\n",
    "    vf_x = v_x + a_x * dt\n",
    "    vf_y = v_y + a_y * dt\n",
    "\n",
    "    # Solve for new position with xf = x0 + vt\n",
    "    x_f = x0 + v_x * dt\n",
    "    y_f = y0 + v_y * dt\n",
    "\n",
    "    return vf_x, vf_y, x_f, y_f\n"
   ]
  }
 ],
 "metadata": {
  "kernelspec": {
   "display_name": "base",
   "language": "python",
   "name": "python3"
  },
  "language_info": {
   "codemirror_mode": {
    "name": "ipython",
    "version": 3
   },
   "file_extension": ".py",
   "mimetype": "text/x-python",
   "name": "python",
   "nbconvert_exporter": "python",
   "pygments_lexer": "ipython3",
   "version": "3.12.7"
  }
 },
 "nbformat": 4,
 "nbformat_minor": 2
}
